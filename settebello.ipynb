{
  "nbformat": 4,
  "nbformat_minor": 0,
  "metadata": {
    "colab": {
      "provenance": [],
      "mount_file_id": "1POR4W4URzxM5Wrz4JguVQn5-7uQMQzwd",
      "authorship_tag": "ABX9TyNaJYcD9sA2ynXOnCjClziD",
      "include_colab_link": true
    },
    "kernelspec": {
      "name": "python3",
      "display_name": "Python 3"
    },
    "language_info": {
      "name": "python"
    }
  },
  "cells": [
    {
      "cell_type": "markdown",
      "metadata": {
        "id": "view-in-github",
        "colab_type": "text"
      },
      "source": [
        "<a href=\"https://colab.research.google.com/github/Agoplus/Advanced_Statistics-R/blob/main/settebello.ipynb\" target=\"_parent\"><img src=\"https://colab.research.google.com/assets/colab-badge.svg\" alt=\"Open In Colab\"/></a>"
      ]
    },
    {
      "cell_type": "code",
      "execution_count": 2,
      "metadata": {
        "id": "Gz2Il2Q5A8mn"
      },
      "outputs": [],
      "source": [
        "# Libraries\n",
        "import numpy as np\n",
        "import random as rd"
      ]
    },
    {
      "cell_type": "code",
      "source": [
        "# Game Definition\n",
        "num_players = 6\n",
        "deck_cards = 40\n",
        "seed_1 = \"coppe\"\n",
        "seed_2 = \"bastoni\"\n",
        "seed_3 = \"spade\"\n",
        "seed_4 = \"denari\"\n",
        "jolly = {\"value\":10, \"seed\":seed_4}\n",
        "\n",
        "# Strategy Parameters\n",
        "max_player_call_value = np.arange(0,7.5,0.5)\n",
        "max_dealer_call_value = np.arange(0,7.5,0.5)\n",
        "max_player_jolly_call_value = np.arange(1,7,1)\n",
        "max_dealer_jolly_call_value = max_player_jolly_call_value\n",
        "strategy_parameters = {\"max_player_call_value\":max_player_call_value,\n",
        "                   \"max_dealer_call_value\":max_dealer_call_value,\n",
        "                   \"max_player_jolly_call_value\":max_player_jolly_call_value,\n",
        "                   \"max_dealer_jolly_call_value\":max_dealer_jolly_call_value}"
      ],
      "metadata": {
        "id": "KR0Y5OEoBeoG"
      },
      "execution_count": 6,
      "outputs": []
    },
    {
      "cell_type": "markdown",
      "source": [
        "# **Functions**"
      ],
      "metadata": {
        "id": "Oxu-1oDN1eW0"
      }
    },
    {
      "cell_type": "code",
      "source": [
        "def deck_shuffle():\n",
        "  # Create a new deck with 4 seeds\n",
        "  deck = {seed_1:list(i for i in range(1,11)), seed_2:list(i for i in range(1,11)), seed_3:list(i for i in range(1,11)), seed_4:list(i for i in range(1,11))}\n",
        "  seeds = [seed_1, seed_2, seed_3, seed_4]\n",
        "  return deck, seeds"
      ],
      "metadata": {
        "id": "byEitkIxBpyR"
      },
      "execution_count": 3,
      "outputs": []
    },
    {
      "cell_type": "code",
      "source": [
        "def card_extraction(seeds, deck):\n",
        "  # Check if there is still at least 1 card per seed in the deck\n",
        "  for seed in seeds:\n",
        "    if len(deck[seed]) == 0:\n",
        "      del deck[seed] # If not -> removes the seed from the possible choices for the extraction\n",
        "      seeds.remove(seed)\n",
        "  # Choose a random face value and seed of the card\n",
        "  card_seed = rd.choice(seeds)\n",
        "  card_value = rd.choice(deck[card_seed])\n",
        "  deck[card_seed].remove(card_value) # Removes the value/seed combination from the deck (the card is extracted)\n",
        "  return Card(card_value, card_seed)"
      ],
      "metadata": {
        "id": "UACQ5e2v1TcM"
      },
      "execution_count": 4,
      "outputs": []
    },
    {
      "cell_type": "code",
      "source": [
        "def settebello_value(value, seed):\n",
        "  # Function to calculate the value of a card in \"settebello\" terms. If the card is the jolly then is counted as 7.5 for starting hand pourposes\n",
        "  if value == jolly[\"value\"] and seed == jolly[\"seed\"]:\n",
        "    return 7.5\n",
        "  else:\n",
        "    return value if value<8 else 0.5"
      ],
      "metadata": {
        "id": "u5d11eBx1WZL"
      },
      "execution_count": 5,
      "outputs": []
    },
    {
      "cell_type": "code",
      "source": [
        "def game(player_starting_hand_vector, dealer_starting_hand_vector, player_wins, dealer_wins, strategy_parameters, jolly):\n",
        "  # Starts every game by shuffling the deck\n",
        "  deck, seeds = deck_shuffle()\n",
        "  players = []\n",
        "  # Play the game by creating Player objects and Dealer object and giving them a starting Card object\n",
        "  for player_id in range(0, num_players):\n",
        "    player_starting_hand = card_extraction(seeds, deck)\n",
        "    player_starting_hand_vector.append(settebello_value(player_starting_hand.value, player_starting_hand.seed))\n",
        "    players.append(Player([player_starting_hand], player_id, seeds, deck, strategy_parameters, jolly))\n",
        "  dealer_starting_hand = card_extraction(seeds, deck)\n",
        "  dealer_starting_hand_vector.append(settebello_value(dealer_starting_hand.value, dealer_starting_hand.seed))\n",
        "  dealer = Dealer([dealer_starting_hand], seeds, deck, strategy_parameters, jolly)\n",
        "  # Player and Dealer strategy. Here is defined the max hand value until player and dealer call for an extra card.\n",
        "  # If they arer below the threshold they draw using their method\n",
        "  for player in players:\n",
        "    while player.hand_value() < strategy_parameters[\"max_player_call_value\"][10]:\n",
        "      player.draw()\n",
        "  while dealer.hand_value() < strategy_parameters[\"max_dealer_call_value\"][11]:\n",
        "    dealer.draw()\n",
        "# Evaluation of winners. Results for the dealer are given ranging from 0 to 1 based on the fraction of player that they managed to beat\n",
        "# Starting hand, corresponding result for players (binary 0 or 1) and dealer result (discrete value between 0 and 1) are saved in lists and dictionaries\n",
        "  dealer_fraction_win = 0\n",
        "  for player in players:\n",
        "    if player.hand_value()<8:\n",
        "      if dealer.hand_value()>7.5:\n",
        "        player_wins.append(1)\n",
        "      elif player.hand_value()>dealer.hand_value() and dealer.hand_value()<8:\n",
        "        player_wins.append(1)\n",
        "      else:\n",
        "        player_wins.append(0)\n",
        "        dealer_fraction_win = dealer_fraction_win + 1/num_players\n",
        "    else:\n",
        "      player_wins.append(0)\n",
        "      dealer_fraction_win = dealer_fraction_win + 1/num_players\n",
        "  dealer_wins.append(dealer_fraction_win)\n",
        "  # Results are sent back to be given as input the game after to be updated with the next game\n",
        "  return player_starting_hand_vector, dealer_starting_hand_vector, player_wins, dealer_wins"
      ],
      "metadata": {
        "id": "hRo7viHRGcjW"
      },
      "execution_count": 6,
      "outputs": []
    },
    {
      "cell_type": "markdown",
      "source": [
        "# **Classes**"
      ],
      "metadata": {
        "id": "45M2BWWA1pzT"
      }
    },
    {
      "cell_type": "code",
      "source": [
        "class Card():\n",
        "  def __init__(self, value, seed):\n",
        "    self.value = value\n",
        "    self.seed = seed"
      ],
      "metadata": {
        "id": "Qqg5kv-VU8EK"
      },
      "execution_count": 7,
      "outputs": []
    },
    {
      "cell_type": "code",
      "source": [
        "class Dealer():\n",
        "  def __init__(self, hand, seeds, deck, strategy_parameters , jolly, re_denari = False):\n",
        "    self.hand = hand\n",
        "    self.seeds = seeds\n",
        "    self.deck = deck\n",
        "    self.jolly = jolly\n",
        "    self.re_denari = re_denari\n",
        "    self.max_player_jolly_call_value = strategy_parameters[\"max_player_jolly_call_value\"][0]\n",
        "\n",
        "  def hand_value(self):\n",
        "    # Hand value is evaluated in 2 ways depending on if the jolly is present or not\n",
        "    for card in self.hand:\n",
        "      if [card.value, card.seed]==[self.jolly[\"value\"],self.jolly[\"seed\"]]:\n",
        "        if self.re_denari==False:\n",
        "          # If the jolly is present the hand is rearrenged and the jolly card is placed as first in the hand list\n",
        "          self.re_denari = True\n",
        "          self.hand.remove(card)\n",
        "          self.hand.insert(0, card)\n",
        "          break\n",
        "    if self.re_denari:\n",
        "      # If the jolly is present the hand value is given by considering the other cards in hand.\n",
        "      # If the cards different from the jolly have a value below the max jolly call threshold the total value of the hand is considered 0.5 to\n",
        "      # always allow an extra card to be called. The max jolly call threshold is part of the player/dealer strategy.\n",
        "      # The value rule for the jolly is that it can assume any value of the other cards present in the deck (therefore not something like 4.5)\n",
        "      value2 = 0\n",
        "      for card2 in self.hand[1:]:\n",
        "        value2 = value2 + settebello_value(card2.value, card2.seed)\n",
        "      if value2%1==0 and value2<self.max_player_jolly_call_value+1:\n",
        "        value = 0.5\n",
        "      elif value2%1==0 and value2>self.max_player_jolly_call_value and value2<7:\n",
        "        value = 7\n",
        "      elif value2==7:\n",
        "        value = 7.5\n",
        "      elif value2%1!=0 and value2<8:\n",
        "        value = 7.5\n",
        "      else:\n",
        "        value = 8\n",
        "    else:\n",
        "      # If the hand does not contain a jolly than the value is calculated applying normal settebello rules\n",
        "      value = 0\n",
        "      for card in self.hand:\n",
        "        value = value + settebello_value(card.value, card.value)\n",
        "    # If the value of the hand is above 7.5 it is considered a \"bust\" and a value of 8 is assigned. The player immidiatly loses the bet\n",
        "    return value if value<8 else 8\n",
        "\n",
        "  def draw(self):\n",
        "    self.hand.append(card_extraction(self.seeds, self.deck))"
      ],
      "metadata": {
        "id": "UieEa6VRcdgj"
      },
      "execution_count": 8,
      "outputs": []
    },
    {
      "cell_type": "code",
      "source": [
        "class Player(Dealer):\n",
        "  def __init__(self, hand, id, seeds, deck, strategy_parameters, jolly, re_denari = False):\n",
        "    self.hand = hand\n",
        "    self.id = id\n",
        "    self.seeds = seeds\n",
        "    self.deck = deck\n",
        "    self.jolly = jolly\n",
        "    self.re_denari = re_denari\n",
        "    self.max_player_jolly_call_value = strategy_parameters[\"max_player_jolly_call_value\"][0]"
      ],
      "metadata": {
        "id": "t3WFrmMfJgIR"
      },
      "execution_count": 9,
      "outputs": []
    },
    {
      "cell_type": "markdown",
      "source": [
        "# **Game**"
      ],
      "metadata": {
        "id": "Gh9rWQLoGnZZ"
      }
    },
    {
      "cell_type": "code",
      "source": [
        "player_starting_hand_vector, dealer_starting_hand_vector, player_wins, dealer_wins = [],[],[],[]\n",
        "i = 0\n",
        "num_games = 100000\n",
        "# Play games of the number of players chosen + dealer and saves results for both of them in lists and dictionaries\n",
        "while i < num_games:\n",
        "  player_starting_hand_vector, dealer_starting_hand_vector, player_wins, dealer_wins = game(player_starting_hand_vector, dealer_starting_hand_vector, player_wins, dealer_wins, strategy_parameters, jolly)\n",
        "  i = i+1"
      ],
      "metadata": {
        "id": "gTUWlnFdMdbm"
      },
      "execution_count": 10,
      "outputs": []
    },
    {
      "cell_type": "markdown",
      "source": [
        "# **Result Analysis**"
      ],
      "metadata": {
        "id": "gIgFLY4zTA7J"
      }
    },
    {
      "cell_type": "code",
      "source": [
        "starting_hand_result = {\"0.5\":[], \"1\":[], \"2\":[], \"3\":[], \"4\":[], \"5\":[], \"6\":[], \"7\":[], \"7.5\":[]}\n",
        "average_winrate_starting_hand = {\"0.5\":[], \"1\":[], \"2\":[], \"3\":[], \"4\":[], \"5\":[], \"6\":[], \"7\":[], \"7.5\":[]}\n",
        "# Aggregating results by starting hand of the players\n",
        "for j in range(0,num_games):\n",
        "  starting_card = player_starting_hand_vector[j]\n",
        "  result = player_wins[j]\n",
        "  starting_hand_result[str(starting_card)].append(result)\n",
        "\n",
        "# Calculating average winrate based on starting hand for the players\n",
        "for key in starting_hand_result:\n",
        "  dict_sum = sum(starting_hand_result[key])\n",
        "  dict_length = len(starting_hand_result[key])\n",
        "  average_winrate_starting_hand[key].append(dict_sum/dict_length)\n",
        "\n",
        "# Calculating average winrate of the dealer\n",
        "sum = 0\n",
        "for n in dealer_wins:\n",
        "  sum = sum + n\n",
        "print(\"Average dealer winrate:\",sum/num_games)\n",
        "\n",
        "for key in average_winrate_starting_hand:\n",
        "  print(\"Average winrate for starting hand having value equal to\",key,\":\",average_winrate_starting_hand[key][0])"
      ],
      "metadata": {
        "colab": {
          "base_uri": "https://localhost:8080/"
        },
        "id": "tUQxaDglTAGj",
        "outputId": "03e7043e-6b33-4bcc-f05b-f26fcd36a03e"
      },
      "execution_count": 11,
      "outputs": [
        {
          "output_type": "stream",
          "name": "stdout",
          "text": [
            "Average dealer winrate: 0.6161550000000706\n",
            "Average winrate for starting hand having value equal to 0.5 : 0.4148050328307839\n",
            "Average winrate for starting hand having value equal to 1 : 0.334390800039655\n",
            "Average winrate for starting hand having value equal to 2 : 0.29296836259049885\n",
            "Average winrate for starting hand having value equal to 3 : 0.2463206046141607\n",
            "Average winrate for starting hand having value equal to 4 : 0.23110979929161748\n",
            "Average winrate for starting hand having value equal to 5 : 0.22641129032258064\n",
            "Average winrate for starting hand having value equal to 6 : 0.5140930138916852\n",
            "Average winrate for starting hand having value equal to 7 : 0.6626530202689143\n",
            "Average winrate for starting hand having value equal to 7.5 : 0.7844998022933966\n"
          ]
        }
      ]
    },
    {
      "cell_type": "code",
      "source": [
        "# Game\n",
        "#deck, seeds = deck_shuffle()\n",
        "#players = []\n",
        "#for player_id in range(1, num_players+1):\n",
        "  #players.append(Player([card_extraction(seeds, deck)], player_id, seeds, deck))\n",
        "#dealer = Dealer([card_extraction(seeds, deck)], seeds, deck)\n",
        "\n",
        "#for player in players:\n",
        "  #print(\"Player\",player.id,\"starting hand:\",player.hand_value())\n",
        "  #while player.hand_value() < 5:\n",
        "    #print(player.hand_value())\n",
        "    #player.draw()\n",
        "  #print(\"Player\",player.id,\"final hand:\",player.hand_value())\n",
        "\n",
        "#print(\"Dealer starting hand: \", dealer.hand_value())\n",
        "#while dealer.hand_value() < 5:\n",
        "  #print(dealer.hand_value())\n",
        "  #dealer.draw()\n",
        "#print(\"Dealer final hand: \",dealer.hand_value())"
      ],
      "metadata": {
        "id": "nCCX4S7ZL30P"
      },
      "execution_count": 12,
      "outputs": []
    },
    {
      "cell_type": "code",
      "source": [
        "#winners = []\n",
        "#for player in players:\n",
        "  #if player.hand_value()<8:\n",
        "    #if dealer.hand_value()>7.5:\n",
        "      #winners.append(player.id)\n",
        "    #elif player.hand_value()>dealer.hand_value() and dealer.hand_value()<8:\n",
        "      #winners.append(player.id)\n",
        "#print(winners)"
      ],
      "metadata": {
        "id": "ZYgRmifA4amw"
      },
      "execution_count": 13,
      "outputs": []
    }
  ]
}